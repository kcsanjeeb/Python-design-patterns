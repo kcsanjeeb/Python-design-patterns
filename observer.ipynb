{
 "metadata": {
  "language_info": {
   "codemirror_mode": {
    "name": "ipython",
    "version": 3
   },
   "file_extension": ".py",
   "mimetype": "text/x-python",
   "name": "python",
   "nbconvert_exporter": "python",
   "pygments_lexer": "ipython3",
   "version": "3.7.6-final"
  },
  "orig_nbformat": 2,
  "kernelspec": {
   "name": "python37664bitbaseconda3840935214814c8d832fde01e39d386b",
   "display_name": "Python 3.7.6 64-bit ('base': conda)"
  }
 },
 "nbformat": 4,
 "nbformat_minor": 2,
 "cells": [
  {
   "cell_type": "markdown",
   "metadata": {},
   "source": [
    "### Understanding the observer design pattern\n",
    "#### In the software world, multiple services interact with each other to perform huge operation.Services can perform multiple operations, but the operations are dependent upon the objects of the services that it interacts with.\n",
    "### Let us assume that you follow every blogs posted in debuggers hub. To check out new blogs posted or edited you need to subscribe debuggers hub.There would be multiple subscribers that are also registered with this blog.So whenever there is a new blog posted to debuggers hub , you will be notified, or if there is a change on the published blog, you are also made aware of the edits. The way that debuggers hub notify you could be through email or any other notification mechanism defined by the observer. \n",
    "#### The main intentions of observer pattern are listed below: \n",
    "#### 1. The core concept of observer pattern is to maintain one to many dependancy between objects. It makes sure that any change in one object will be notified to other dependent objects automatically\n",
    "#### 2. Encapsulates the core component of the subject. \n",
    "\n",
    "### There are three main participants in observer design pattern:\n",
    "#### 1. Subject \n",
    "\n",
    "### Real World implementaion of observer design pattern \n",
    "#### We will take an example of this website(debuggershub).Let us implement observer design pattern in python. \n",
    "\n",
    "#### Subject behaviour is represented by BlogPublisher class, BlogPublisher is an interface for the subscribers to view. \n",
    "#### attach() method is user by the observer to register into the BlogPublisher and detach() method for deregistering the observer. \n",
    "#### susbscriber() method returns list of registered subscribers\n",
    "#### notifySubscriber() method iterates over the registered subscribers\n",
    "#### addBlog() method is used by publisher to create Blog\n",
    "#### getBlog() method is used to return latest blog which is notified to the Observer. \n",
    " "
   ]
  },
  {
   "cell_type": "code",
   "execution_count": 15,
   "metadata": {},
   "outputs": [],
   "source": [
    "class BlogPublisher:\n",
    "    def __init__(self):\n",
    "        self.__subscribers=[]\n",
    "        self.__latestBlog = None\n",
    "    def attach(self,subscriber):\n",
    "        self.__subscribers.append(subscriber)\n",
    "    def detach(self):\n",
    "        return self.__subscribers.pop()\n",
    "    def subscribers(self):\n",
    "        return [type(x).__name__ for x in self.__subscribers]\n",
    "    def notifySubscribers(self):\n",
    "        for sub in self.__subscribers:\n",
    "            sub.update()\n",
    "    def addBlog(self,blog):\n",
    "        self.__latestBlog= blog\n",
    "    def getBlog(self):\n",
    "        return \"Got blog :: \",self.__latestBlog"
   ]
  },
  {
   "cell_type": "markdown",
   "metadata": {},
   "source": [
    "#### Now let us have a look at the Observer interface. Here subscriber represents the Observer. Subscriber is a abstract base class which represents other ConcreteObservers. Subscribe class has update() method which is implemented by ConcreteObservers. Update() method is implemented by ConcreteObservers so that they get notified by BlogPublishers."
   ]
  },
  {
   "cell_type": "code",
   "execution_count": 16,
   "metadata": {},
   "outputs": [],
   "source": [
    "from abc import ABCMeta, abstractmethod\n",
    "\n",
    "class Subscriber(metaclass=ABCMeta):\n",
    "    @abstractmethod\n",
    "    def update(self):\n",
    "        pass\n",
    "        "
   ]
  },
  {
   "cell_type": "markdown",
   "metadata": {},
   "source": [
    "#### Most probably there are two main features of the blog sites to notify Subscribers about the updates which are through SMS and Email. In our case we have SMSSubscribers and EmailSubscribers.The __init__() method of theese ConcreteObservers register them with BlogPublisher with attach() method and update() method is used by BlogPublisher to notify the observers."
   ]
  },
  {
   "cell_type": "code",
   "execution_count": 17,
   "metadata": {},
   "outputs": [],
   "source": [
    "class SMSSubscriber:\n",
    "    def __init__(self,publisher):\n",
    "        self.publisher=publisher\n",
    "        self.publisher.attach(self)\n",
    "\n",
    "    def update(self):\n",
    "        print(type(self).__name__,self.publisher.getBlog())\n",
    "\n",
    "class EmailSubscriber:\n",
    "     def __init__(self,publisher):\n",
    "        self.publisher=publisher\n",
    "        self.publisher.attach(self)\n",
    "     def update(self):\n",
    "        print(type(self).__name__,self.publisher.getBlog())\n",
    "\n",
    "class AnyOtherSubscriber:\n",
    "     def __init__(self,publisher):\n",
    "        self.publisher=publisher\n",
    "        self.publisher.attach(self)\n",
    "     def update(self):\n",
    "        print(type(self).__name__,self.publisher.getBlog())\n"
   ]
  },
  {
   "cell_type": "markdown",
   "metadata": {},
   "source": [
    "#### The client creates an object for BlogPublisher used by ConcreteObservers. Subscribers are initialized with publisher object.__init__() method uses attach() method to register. Then we print the list of regsiterd subscribers from the Subject. notifySubscribers() calls update() method and is used to notify subscribers about the added blog. BlogPublisher also as detach() method to deregister subscribers. "
   ]
  },
  {
   "cell_type": "code",
   "execution_count": 18,
   "metadata": {
    "tags": []
   },
   "outputs": [
    {
     "output_type": "stream",
     "name": "stdout",
     "text": "\n Subscribers :  ['SMSSubscriber', 'EmailSubscriber', 'AnyOtherSubscriber']\nSMSSubscriber ('Got blog :: ', 'Hello World !')\nEmailSubscriber ('Got blog :: ', 'Hello World !')\nAnyOtherSubscriber ('Got blog :: ', 'Hello World !')\n\n Detached: AnyOtherSubscriber\n\n Subscribers: ['SMSSubscriber', 'EmailSubscriber']\nSMSSubscriber ('Got blog :: ', 'My second blog!')\nEmailSubscriber ('Got blog :: ', 'My second blog!')\n"
    }
   ],
   "source": [
    "if __name__ =='__main__':\n",
    "    blog_publisher = BlogPublisher()\n",
    "    \n",
    "    for Subscribers in [SMSSubscriber,EmailSubscriber,AnyOtherSubscriber]:\n",
    "        Subscribers(blog_publisher)\n",
    "    print(\"\\n Subscribers : \",blog_publisher.subscribers())\n",
    "\n",
    "    blog_publisher.addBlog('My First Blog!')\n",
    "    blog_publisher.notifySubscribers()\n",
    "\n",
    "    print(\"\\n Detached:\",type(blog_publisher.detach()).__name__)\n",
    "    print(\"\\n Subscribers:\",blog_publisher.subscribers())\n",
    "\n",
    "    blog_publisher.addBlog('My second blog!')\n",
    "    blog_publisher.notifySubscribers()\n",
    "    "
   ]
  },
  {
   "cell_type": "code",
   "execution_count": null,
   "metadata": {},
   "outputs": [],
   "source": []
  }
 ]
}