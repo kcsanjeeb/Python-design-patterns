{
 "cells": [
  {
   "cell_type": "markdown",
   "metadata": {},
   "source": [
    "## SINGLETON\n",
    "#### the intent of singleton design pattern is to have only one instance of a class and it should be accessible to multiple clients through well defined access point. Singleton are typically used in cases such as loggin or database operations. printer spoolers, and many other where there is need to have only one instance that is available across the application to avoid conflicting request on the same resource.\n",
    "\n",
    "## Implementing a classical Singletop in Python \n",
    "#### Let us implement a classical Singleton pattern in python. In this example we will do the follwing things : \n",
    "   ####   1. Creation of only one instance of the singleton class.\n",
    "   ####   2. if an instance exists, we will again provide the same object. \n"
   ]
  },
  {
   "cell_type": "code",
   "execution_count": 1,
   "metadata": {
    "tags": []
   },
   "outputs": [
    {
     "output_type": "stream",
     "name": "stdout",
     "text": "Object created <__main__.Singleton object at 0x000001B6C8EFAB48>\nObject created <__main__.Singleton object at 0x000001B6C8EFAB48>\n"
    }
   ],
   "source": [
    "class Singleton(object):\n",
    "    def __new__(cls):\n",
    "        if not hasattr(cls, 'instance'):\n",
    "            cls.instance = super(Singleton,cls).__new__(cls)\n",
    "        return cls.instance\n",
    "    \n",
    "s = Singleton()\n",
    "print(\"Object created\",s)\n",
    "\n",
    "sA = Singleton()\n",
    "print(\"Object created\",sA)"
   ]
  },
  {
   "cell_type": "markdown",
   "metadata": {},
   "source": [
    "#### code description: \n",
    "#### The __new__ method in the code is a special method of python to instantiate objects which is used to control the objects creation. The object gets created with the __new__ method , but before creating the object, it checks whether the object already exists. The hasattr method is a special method in python to know if an object has a certain property. It is used to see if the clas object has the instance property, which checks whether the class already has an object.Here in our code we have requested s object before sA object. When s object is requested the hasattr() detects that object does not exists and hence s allocates the new object instance. When s1 object is requested, hasattr() detects that objet already exists and hence s1 allocates the existing object instance (located at 0x000002345C7A5B48)."
   ]
  },
  {
   "cell_type": "code",
   "execution_count": 2,
   "metadata": {
    "tags": []
   },
   "outputs": [
    {
     "output_type": "stream",
     "name": "stdout",
     "text": "__init__ method is called.\n__init__ method is called.\nobject created : <__main__.Singleton object at 0x000001B6C8F04808>\nInstance is already created : <__main__.Singleton object at 0x000001B6C8F04808>\n"
    }
   ],
   "source": [
    "class Singleton:\n",
    "    __instance = None \n",
    "    def __init__(self):\n",
    "        if not Singleton.__instance:\n",
    "            print(\"__init__ method is called.\")\n",
    "        else:\n",
    "            print(\"Instance is already created :\",self.getInstance())\n",
    "    \n",
    "    @classmethod\n",
    "    def getInstance(cls):\n",
    "        if not cls.__instance:\n",
    "            cls.__instance = Singleton()\n",
    "        return cls.__instance\n",
    "\n",
    "s= Singleton()\n",
    "print(\"object created :\",Singleton.getInstance())\n",
    "s1= Singleton()"
   ]
  },
  {
   "cell_type": "markdown",
   "metadata": {},
   "source": [
    "### code description:\n",
    "#### In the example , we define the variable that will hold the single object to be instantiated. A class Singleton is defined. When we request s= Singleton(), it calls the __init__ method. Our constructor checks whether there is an existing class. In the initial calling of the Singleton(), there is no Instance created so it results to the print statement \"__init__ method is called.\". Then Singleton.getInstance() is called, Object is created here. Now when we call the Singleton() class, as the instance is created, the __init__ method results to the print statement \"Instance is already created :\",self.getInstance()\". self.getInstance() gives the existing object instance \"<__main__.Singleton object at 0x000002345C955648>\". "
   ]
  },
  {
   "cell_type": "code",
   "execution_count": 3,
   "metadata": {
    "tags": []
   },
   "outputs": [
    {
     "output_type": "stream",
     "name": "stdout",
     "text": "This is my integers :  (20, 40)\n"
    }
   ],
   "source": [
    "class ClassA(type):\n",
    "    def __call__(cls,*args,**kwds):\n",
    "        print(\"This is my integers : \",args)\n",
    "        return type.__call__(cls,*args,**kwds)\n",
    "class int(metaclass=ClassA):\n",
    "    def __init__(self,x,y):\n",
    "        self.x = x \n",
    "        self.y = y\n",
    "\n",
    "test = int(20,40)"
   ]
  },
  {
   "cell_type": "markdown",
   "metadata": {},
   "source": [
    "### Code Description: \n",
    "#### The __call__ method gets called when an object needs to be created for an already existing class. In this code we instantiate the int class with int(20,40), then the call method of the ClassA metaclass gets called. Now the metaclass now controls the instantiation of the object. "
   ]
  },
  {
   "cell_type": "markdown",
   "metadata": {},
   "source": [
    "## A Real-world scenario - the singleton pattern"
   ]
  },
  {
   "cell_type": "code",
   "execution_count": 4,
   "metadata": {
    "tags": []
   },
   "outputs": [
    {
     "output_type": "stream",
     "name": "stdout",
     "text": "Database Objects DB1 <sqlite3.Cursor object at 0x000001B6C8F05730>\nDatabase Objects DB2 <sqlite3.Cursor object at 0x000001B6C8F05730>\n"
    }
   ],
   "source": [
    "\n",
    "import sqlite3\n",
    "class MetaSingleton(type):\n",
    "    _instances ={}\n",
    "    def __call__(cls, *args, **kwargs):\n",
    "        if cls not in cls._instances:\n",
    "            cls._instances[cls] = super(MetaSingleton, cls).__call__(*args, **kwargs)\n",
    "        return cls._instances[cls]\n",
    "\n",
    "class Database(metaclass=MetaSingleton):\n",
    "    connection =None\n",
    "    def connect(self):\n",
    "        if self.connection is None:\n",
    "            self.connection = sqlite3.connect(\"db.sqlite3\")\n",
    "            self.cursorobj = self.connection.cursor()\n",
    "        return self.cursorobj\n",
    "\n",
    "db1 =Database().connect()\n",
    "db2 =Database().connect()\n",
    "\n",
    "print(\"Database Objects DB1\",db1)\n",
    "print(\"Database Objects DB2\",db2)\n"
   ]
  },
  {
   "cell_type": "code",
   "execution_count": null,
   "metadata": {},
   "outputs": [],
   "source": []
  }
 ],
 "metadata": {
  "language_info": {
   "codemirror_mode": {
    "name": "ipython",
    "version": 3
   },
   "file_extension": ".py",
   "mimetype": "text/x-python",
   "name": "python",
   "nbconvert_exporter": "python",
   "pygments_lexer": "ipython3",
   "version": "3.7.6-final"
  },
  "orig_nbformat": 2,
  "kernelspec": {
   "name": "python37664bitbaseconda3840935214814c8d832fde01e39d386b",
   "display_name": "Python 3.7.6 64-bit ('base': conda)"
  }
 },
 "nbformat": 4,
 "nbformat_minor": 2
}