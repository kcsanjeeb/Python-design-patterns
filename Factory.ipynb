{
 "cells": [
  {
   "cell_type": "markdown",
   "metadata": {},
   "source": [
    "## Design Patterns in Python — Factory"
   ]
  },
  {
   "cell_type": "markdown",
   "metadata": {},
   "source": [
    "### The simple Factory Pattern"
   ]
  },
  {
   "cell_type": "code",
   "execution_count": 4,
   "metadata": {
    "tags": []
   },
   "outputs": [
    {
     "output_type": "stream",
     "name": "stdout",
     "text": "Accountant sanjeeb is created\n"
    }
   ],
   "source": [
    "\n",
    "from abc import ABCMeta, abstractmethod\n",
    "\n",
    "class Employee(metaclass=ABCMeta):\n",
    "    @abstractmethod\n",
    "    def create(self):\n",
    "        pass\n",
    "\n",
    "class manager(Person):\n",
    "    def create(self, name):\n",
    "        print(f\"Manager {name} is created\")\n",
    "\n",
    "class accountant(Person):\n",
    "    def create(self, name):\n",
    "        print(f\"Accountant {name} is created\")\n",
    "\n",
    "class PersonFactory(object):\n",
    "    @classmethod\n",
    "    def createPerson(cls, designation, name):\n",
    "        eval(designation)().create(name)\n",
    "\n",
    "\n",
    "if __name__ == \"__main__\":\n",
    "    post = input(\" Enter the post : \")\n",
    "    name = input(\"Enter the employee's name : \")\n",
    "    PersonFactory.createPerson(post, name)"
   ]
  },
  {
   "cell_type": "code",
   "execution_count": null,
   "metadata": {},
   "outputs": [],
   "source": []
  }
 ],
 "metadata": {
  "language_info": {
   "codemirror_mode": {
    "name": "ipython",
    "version": 3
   },
   "file_extension": ".py",
   "mimetype": "text/x-python",
   "name": "python",
   "nbconvert_exporter": "python",
   "pygments_lexer": "ipython3",
   "version": "3.7.6-final"
  },
  "orig_nbformat": 2,
  "kernelspec": {
   "name": "python37664bitbaseconda3840935214814c8d832fde01e39d386b",
   "display_name": "Python 3.7.6 64-bit ('base': conda)"
  }
 },
 "nbformat": 4,
 "nbformat_minor": 2
}