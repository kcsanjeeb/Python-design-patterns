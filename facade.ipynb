{
 "cells": [
  {
   "cell_type": "markdown",
   "metadata": {},
   "source": [
    "### Facade design patterm\n",
    "#### The term facade is referred as the principal front of a building, that faces on to a street or open space.When people pass by a facade they can view the exterior face but they will not be able to view the complexities within. This is how facade design pattern is implemented. Facade hides the inner complexities of the system and provides the simplest interface to the client.\n",
    "#### Let us understand facade design pattern with a simple real world example.\n",
    "#### Consider an example of a pharmacy. You will bring out certain a list of medicines from the prescription of the doctor. You will not be aware of the medicines that are placed in the pharmacy. Only the pharmacist will be able to point out the medicines and hand it over you. The customer doesn't need to know the pharmacy. All the work is done by the simple interfacce i.e pharmacist.\n",
    "### Major Essentials of Facade design pattern\n",
    "#### Provides a unified interdace to set of interfaces in a subsystem and defines a high level interface to help client use the subsystem efficiently.\n",
    "#### Facade class collects all system classes, methods and provide required meaningful APIs so this way for client there will be minimum call. If any changes needs to be done in sub systems, there will not be any change for facade class and that way it will be loosely coupled.\n",
    "### Implementing the Facade pattern in real world\n",
    "#### Let us assume you are planning to organize a software product launch event. It takes a whole lot of responsibility to well organize the event all by yourself. You need to book a hotel, a caterar for food arrangement, a florist to decorate the stage, and musical arrangments as well. Your first priority will be consulting to an event organizer. He will make sure that he will be resposible to talk to the individual services providers and get the best deal for you. \n",
    "#### Let us look in the Facade design pattern's perspective : \n",
    "#### CLient : It is you who needs to have a software product launch organized and completed in time.\n",
    "#### Facade : The event organizer is responsible to talk with the service providers who can work for you to make arrangements. \n",
    "#### Subsystems : They are the systems that provide services such as hotel management, flower decorations, caterine services and music arrangements.\n",
    "\n",
    "#### Let us dive deeper implementing Facade design pattern with python."
   ]
  },
  {
   "cell_type": "code",
   "execution_count": 23,
   "metadata": {},
   "outputs": [],
   "source": [
    "class EventOrganizer(object):\n",
    "    def __init__(self):\n",
    "        print(\"I will manage the event for you. I will talk to the service providers.\\n\")\n",
    "    def arrange(self):\n",
    "        self.hotelier = Hotelier()\n",
    "        self.hotelier.bookHotel()\n",
    "        \n",
    "        self.florist = Florist()\n",
    "        self.florist.setFlowerRequirements()\n",
    "\n",
    "        self.Caterer = Caterer()\n",
    "        self.Caterer.setCuisine()\n",
    "\n",
    "        self.musician = Musician()\n",
    "        self.musician.setMusicType()\n"
   ]
  },
  {
   "cell_type": "markdown",
   "metadata": {},
   "source": [
    "#### Hotelier checks whether the hotel is available on the required date(__isAvailable).abs\n",
    "#### Florist has setFlowerRequirements() method to set the type of flowers required for the event. \n",
    "#### Caterier is responsible for the food arrangements and has the setCuisine() method to accept the type of cuisine.abs\n",
    "#### Musician class is responsible to make music arrangements and has the setMusicTYpe() method."
   ]
  },
  {
   "cell_type": "code",
   "execution_count": 24,
   "metadata": {
    "tags": []
   },
   "outputs": [],
   "source": [
    "class Hotelier(object):\n",
    "    def __init__(self):\n",
    "        print(\"--- Hotel Arrangement ---\")\n",
    "    def __isAvailable(self):\n",
    "        print(\"Is the hotel available to oraganize launch event on the date ?\")\n",
    "        return True\n",
    "    def bookHotel(self):\n",
    "        if self.__isAvailable():\n",
    "            print(\"Registered the Booking\\n\")\n",
    "\n",
    "class Florist(object):\n",
    "    def __init__(self):\n",
    "        print(\"--- Flower Decoration ---\")\n",
    "    def setFlowerRequirements(self):\n",
    "        print(\"Tulips, ferns, lilies, Roses would be perfect fot the decorations\\n\")\n",
    "\n",
    "class Caterer(object):\n",
    "    def __init__(self):\n",
    "        print(\"--- Food Arrangements ---\")\n",
    "    def setCuisine(self):\n",
    "        print(\"American breakfast, Nepali lunch, Indian dessert will be served. \\n\")\n",
    "\n",
    "class Musician(object):\n",
    "    def __init__(self):\n",
    "        print(\"--- Musical Arrangements ---\")\n",
    "    def setMusicType(self):\n",
    "        print(\"Classical music will be played.\\n\")\n"
   ]
  },
  {
   "cell_type": "code",
   "execution_count": 25,
   "metadata": {
    "tags": []
   },
   "outputs": [
    {
     "output_type": "stream",
     "name": "stdout",
     "text": "You :: How can i arrange such a huge software product launch event all by myself. What a mess.\nYou :: I think i should contact an event organizer\n\nI will manage the event for you. I will talk to the service providers.\n\n--- Hotel Arrangement ---\nIs the hotel available to oraganize launch event on the date ?\nRegistered the Booking\n\n--- Flower Decoration ---\nTulips, ferns, lilies, Roses would be perfect fot the decorations\n\n--- Food Arrangements ---\nAmerican breakfast, Nepali lunch, Indian dessert will be served. \n\n--- Musical Arrangements ---\nClassical music will be played.\n\n"
    }
   ],
   "source": [
    "class You(object):\n",
    "    def __init__(self):\n",
    "        print(\"You :: How can i arrange such a huge software product launch event all by myself. What a mess.\")\n",
    "    def askEventOrganizer(self):\n",
    "        print(\"You :: I think i should contact an event organizer\\n\")\n",
    "        eo = EventOrganizer()\n",
    "        eo.arrange()\n",
    "    def __del__(self):\n",
    "        print(\"you :: Thanks to the event organizer, all preparations are successfully completed.\")\n",
    "\n",
    "you =You()\n",
    "you.askEventOrganizer()"
   ]
  },
  {
   "cell_type": "markdown",
   "metadata": {},
   "source": [
    "#### In the above example wew can realte the Facade Pattern with the real world scenario in the following way: \n",
    "#### 1. EventOrganizer class is the Facade that doest the work for you and simpliefies the clent (you).abs\n",
    "#### 2. EventOrganizer uses composition to create objects of the subsystems such as Hotelier,Caterer,Musician and Florist."
   ]
  }
 ],
 "metadata": {
  "language_info": {
   "codemirror_mode": {
    "name": "ipython",
    "version": 3
   },
   "file_extension": ".py",
   "mimetype": "text/x-python",
   "name": "python",
   "nbconvert_exporter": "python",
   "pygments_lexer": "ipython3",
   "version": "3.7.6-final"
  },
  "orig_nbformat": 2,
  "kernelspec": {
   "name": "python37664bitbaseconda3840935214814c8d832fde01e39d386b",
   "display_name": "Python 3.7.6 64-bit ('base': conda)"
  }
 },
 "nbformat": 4,
 "nbformat_minor": 2
}